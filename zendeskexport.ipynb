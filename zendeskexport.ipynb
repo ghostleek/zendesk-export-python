import requests
import csv

#Step1: update with your domain
# Manually constructing the URL for debugging
url = "https://{#updatewithyourdomain}.zendesk.com/api/v2/search/export.json"
params = {
    'filter[type]': 'ticket',
    'query': 'type:ticket',
    'page[size]': 100
}
#Step2: update auth creds. This assumes you are running this jupyter notebook locally. If running online, you should update this function and store your env vars securely. 
auth = ('{#updatewithyouremaillogin}/token', '{#updatewithyourtoken}')

# Specify the CSV file name
csv_file_name = 'tickets.csv'

# Define the CSV columns
csv_columns = ['datetime_created', 'from', 'raw_subject', 'status', 'description']

#Step3: update user_url constructor with your domain
def get_requester_email(requester_id):
    user_url = f"https://{#updatewithyourdomain}.zendesk.com/api/v2/users/{requester_id}.json"
    user_response = requests.get(user_url, auth=auth)
    if user_response.status_code == 200:
        user_data = user_response.json()
        return user_data.get('user', {}).get('email')
    else:
        return None

with open(csv_file_name, mode='w', newline='', encoding='utf-8') as file:
    writer = csv.DictWriter(file, fieldnames=csv_columns)
    writer.writeheader()
    
    # Loop to handle pagination
    while url:
        response = requests.get(url, params=params, auth=auth)
        
        if response.status_code != 200:
            print(f"Failed to fetch tickets: {response.status_code}, {response.text}")
            break
        
        data = response.json()
        tickets = data.get('results', [])
        
        for ticket in tickets:
            requester_email = get_requester_email(ticket.get('requester_id'))
            row = {
                'datetime_created': ticket.get('created_at'),
                'from': requester_email,
                'raw_subject': ticket.get('subject'),
                'status': ticket.get('status'),
                'description': ticket.get('description')
            }
            writer.writerow(row)
        
        # Check for next page URL
        url = data['links'].get('next')
        # Clear params for next page requests
        params = {}

print(f"Data successfully written to {csv_file_name}")
